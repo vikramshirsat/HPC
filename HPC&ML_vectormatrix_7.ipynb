{
 "cells": [
  {
   "cell_type": "markdown",
   "id": "4b41acd8",
   "metadata": {},
   "source": [
    "# matrix - Matrix Multiplication"
   ]
  },
  {
   "cell_type": "code",
   "execution_count": 2,
   "id": "e4ab2103",
   "metadata": {},
   "outputs": [
    {
     "name": "stdout",
     "output_type": "stream",
     "text": [
      "Serial Multiply Matrix and matrix: 1.3206217288970947\n",
      "Parallel Multiply Matrix and matrix: 0.0030601024627685547\n"
     ]
    }
   ],
   "source": [
    "import random\n",
    "import numpy as np\n",
    "import time\n",
    "\n",
    "N = 100\n",
    "A = np.random.randint(0, N, size=(N, N))\n",
    "B = np.random.randint(0, N, size=(N, N))\n",
    "C = np.zeros((N, N), dtype=int)\n",
    "\n",
    "start = time.time()\n",
    "for i in range(N):\n",
    "    for j in range(N):\n",
    "        C[i][j] = 0\n",
    "        for k in range(N):\n",
    "            C[i][j] += A[i][k] * B[k][j]\n",
    "duration = time.time() - start\n",
    "print(\"Serial Multiply Matrix and matrix:\", duration)\n",
    "\n",
    "start = time.time()\n",
    "C = np.dot(A, B)\n",
    "duration = time.time() - start\n",
    "print(\"Parallel Multiply Matrix and matrix:\", duration)\n"
   ]
  },
  {
   "cell_type": "markdown",
   "id": "15e241a7",
   "metadata": {},
   "source": [
    "# Matrix -Vector Multiplication"
   ]
  },
  {
   "cell_type": "code",
   "execution_count": 7,
   "id": "9c4ee4bf",
   "metadata": {},
   "outputs": [
    {
     "name": "stdout",
     "output_type": "stream",
     "text": [
      "Serial Multiply Vector and matrix: 0.29424333572387695\n",
      "Parallel Multiply Vector and matrix: 0.001001596450805664\n"
     ]
    }
   ],
   "source": [
    "import random\n",
    "import numpy as np\n",
    "import time\n",
    "M = 700\n",
    "# Multiply Vector and matrix\n",
    "A = np.random.randint(0, M, size=(M, M))\n",
    "a = np.random.randint(0, M, size=M)\n",
    "d = np.zeros(M, dtype=int)\n",
    "# serial\n",
    "start = time.time()\n",
    "for i in range(M):\n",
    "    sum = 0\n",
    "    for j in range(M):\n",
    "        sum += A[i][j] * a[j]\n",
    "    d[i] = sum\n",
    "duration = time.time() - start\n",
    "print(\"Serial Multiply Vector and matrix:\", duration)\n",
    "\n",
    "# parallel\n",
    "start = time.time()\n",
    "d = np.dot(A, a)\n",
    "duration = time.time() - start\n",
    "print(\"Parallel Multiply Vector and matrix:\", duration)\n"
   ]
  },
  {
   "cell_type": "markdown",
   "id": "9c8aa2da",
   "metadata": {},
   "source": [
    "# Vector Addition"
   ]
  },
  {
   "cell_type": "code",
   "execution_count": 4,
   "id": "d7e0fae8",
   "metadata": {},
   "outputs": [
    {
     "name": "stdout",
     "output_type": "stream",
     "text": [
      "Serial vector addition: 3.3347482681274414\n",
      "Parallel vector addition: 2.1767189502716064\n",
      "***********************************\n"
     ]
    }
   ],
   "source": [
    "N = 10000000\n",
    "\n",
    "# Addition of two vectors\n",
    "a = [random.randint(0, N) for _ in range(N)]\n",
    "b = [random.randint(0, N) for _ in range(N)]\n",
    "c = np.zeros(N, dtype=int)\n",
    "\n",
    "start = time.time()\n",
    "for i in range(N):\n",
    "    c[i] = b[i] + a[i]\n",
    "duration = time.time() - start\n",
    "print(\"Serial vector addition:\", duration)\n",
    "\n",
    "start = time.time()\n",
    "c = np.add(a, b)\n",
    "duration = time.time() - start\n",
    "print(\"Parallel vector addition:\", duration)\n",
    "\n",
    "print(\"***********************************\")"
   ]
  },
  {
   "cell_type": "code",
   "execution_count": 9,
   "id": "09bc4361",
   "metadata": {},
   "outputs": [
    {
     "name": "stdout",
     "output_type": "stream",
     "text": [
      "Serial Multiply Vector and matrix: 0.58309006690979\n",
      "Parallel Multiply Vector and matrix: 0.050324440002441406\n"
     ]
    }
   ],
   "source": [
    "import random\n",
    "import numpy as np\n",
    "import time\n",
    "from concurrent.futures import ThreadPoolExecutor\n",
    "\n",
    "M = 700\n",
    "# Multiply Vector and matrix\n",
    "A = np.random.randint(0, M, size=(M, M))\n",
    "a = np.random.randint(0, M, size=M)\n",
    "d = np.zeros(M, dtype=int)\n",
    "\n",
    "# Serial multiplication\n",
    "start = time.time()\n",
    "for i in range(M):\n",
    "    sum = 0\n",
    "    for j in range(M):\n",
    "        sum += A[i][j] * a[j]\n",
    "    d[i] = sum\n",
    "duration = time.time() - start\n",
    "print(\"Serial Multiply Vector and matrix:\", duration)\n",
    "\n",
    "# Parallel multiplication\n",
    "start = time.time()\n",
    "with ThreadPoolExecutor() as executor:\n",
    "    def multiply_row(row):\n",
    "        return np.dot(A[row], a)\n",
    "    results = executor.map(multiply_row, range(M))\n",
    "    d = np.array(list(results))\n",
    "duration = time.time() - start\n",
    "print(\"Parallel Multiply Vector and matrix:\", duration)\n"
   ]
  },
  {
   "cell_type": "code",
   "execution_count": null,
   "id": "aa2ab3ed",
   "metadata": {},
   "outputs": [],
   "source": []
  }
 ],
 "metadata": {
  "kernelspec": {
   "display_name": "Python 3 (ipykernel)",
   "language": "python",
   "name": "python3"
  },
  "language_info": {
   "codemirror_mode": {
    "name": "ipython",
    "version": 3
   },
   "file_extension": ".py",
   "mimetype": "text/x-python",
   "name": "python",
   "nbconvert_exporter": "python",
   "pygments_lexer": "ipython3",
   "version": "3.9.12"
  }
 },
 "nbformat": 4,
 "nbformat_minor": 5
}
