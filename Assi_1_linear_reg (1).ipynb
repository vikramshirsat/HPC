{
  "nbformat": 4,
  "nbformat_minor": 0,
  "metadata": {
    "colab": {
      "provenance": []
    },
    "kernelspec": {
      "name": "python3",
      "display_name": "Python 3"
    },
    "language_info": {
      "name": "python"
    }
  },
  "cells": [
    {
      "cell_type": "code",
      "execution_count": null,
      "metadata": {
        "id": "PR4PgBJIWKL5"
      },
      "outputs": [],
      "source": [
        "import pandas as pd\n",
        "import numpy as np"
      ]
    },
    {
      "cell_type": "code",
      "source": [
        "data = {'height': [151, 174, 138, 186,128, 136, 179, 163, 152, 131], 'Age': [63, 81, 56, 91, 47, 57, 76, 72, 62, 48]}\n",
        "df = pd.DataFrame(data)\n",
        "print(df)\n",
        "\n",
        "#IF DATASET IS GIVEN\n",
        "#df=pd.read_csv(\"Dataset.csv\")\n"
      ],
      "metadata": {
        "colab": {
          "base_uri": "https://localhost:8080/"
        },
        "id": "h1Bt2kwNWcGx",
        "outputId": "26e46f43-a78c-4a7d-dcf5-942c790dd5ee"
      },
      "execution_count": null,
      "outputs": [
        {
          "output_type": "stream",
          "name": "stdout",
          "text": [
            "   height  Age\n",
            "0     151   63\n",
            "1     174   81\n",
            "2     138   56\n",
            "3     186   91\n",
            "4     128   47\n",
            "5     136   57\n",
            "6     179   76\n",
            "7     163   72\n",
            "8     152   62\n",
            "9     131   48\n"
          ]
        }
      ]
    },
    {
      "cell_type": "code",
      "source": [
        "x=df.iloc[:,:-1].values\n",
        "y=df.iloc[:,1].values\n",
        "print(x)\n",
        "print(y)"
      ],
      "metadata": {
        "colab": {
          "base_uri": "https://localhost:8080/"
        },
        "id": "XQWgIEUoX4r9",
        "outputId": "32b0f0d3-50d3-474f-9dbb-8eadc61a7252"
      },
      "execution_count": null,
      "outputs": [
        {
          "output_type": "stream",
          "name": "stdout",
          "text": [
            "[[151]\n",
            " [174]\n",
            " [138]\n",
            " [186]\n",
            " [128]\n",
            " [136]\n",
            " [179]\n",
            " [163]\n",
            " [152]\n",
            " [131]]\n",
            "[63 81 56 91 47 57 76 72 62 48]\n"
          ]
        }
      ]
    },
    {
      "cell_type": "code",
      "source": [
        "from sklearn.linear_model import LinearRegression\n",
        "regressor=LinearRegression()\n",
        "regressor.fit(x,y)\n",
        "print(\"Accuracy:\",regressor.score(x,y)*100)"
      ],
      "metadata": {
        "colab": {
          "base_uri": "https://localhost:8080/"
        },
        "id": "WHkjEq1Fb4uG",
        "outputId": "d96a5b73-17bb-4ac6-e2b7-c53285e35697"
      },
      "execution_count": null,
      "outputs": [
        {
          "output_type": "stream",
          "name": "stdout",
          "text": [
            "Accuracy: 95.47822477500306\n"
          ]
        }
      ]
    },
    {
      "cell_type": "code",
      "source": [
        "regressor.predict([[180]])"
      ],
      "metadata": {
        "colab": {
          "base_uri": "https://localhost:8080/"
        },
        "id": "wpJhlyvNdf0u",
        "outputId": "f0642e94-6b11-4417-edc6-76b6bef3b3ba"
      },
      "execution_count": null,
      "outputs": [
        {
          "output_type": "execute_result",
          "data": {
            "text/plain": [
              "array([82.97479377])"
            ]
          },
          "metadata": {},
          "execution_count": 12
        }
      ]
    },
    {
      "cell_type": "code",
      "source": [],
      "metadata": {
        "id": "BIumf9-xeAfL"
      },
      "execution_count": null,
      "outputs": []
    }
  ]
}